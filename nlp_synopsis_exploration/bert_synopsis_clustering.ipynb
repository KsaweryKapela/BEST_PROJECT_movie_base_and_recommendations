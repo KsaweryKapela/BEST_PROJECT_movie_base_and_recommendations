{
 "cells": [
  {
   "cell_type": "code",
   "execution_count": 4,
   "metadata": {},
   "outputs": [],
   "source": [
    "import sys\n",
    "import dotenv\n",
    "import os\n",
    "dotenv.load_dotenv()\n",
    "sys.path.append(os.getenv('MAINDIR'))\n",
    "from main import MoviesDatabase\n",
    "from sqlalchemy.orm import lazyload, subqueryload, joinedload, selectinload, noload"
   ]
  },
  {
   "cell_type": "code",
   "execution_count": 157,
   "metadata": {},
   "outputs": [],
   "source": [
    "synopsis = [movie.description for movie in MoviesDatabase.query.all()]\n",
    "genres = [movie.genre for movie in MoviesDatabase.query.all()]\n",
    "titles = [movie.title for movie in MoviesDatabase.query.all()]\n",
    "collection = [movie.collection for movie in MoviesDatabase.query.all()]\n",
    "critics = [movie.computed_critic_score for movie in MoviesDatabase.query.all()]\n",
    "studio = [movie.studio for movie in MoviesDatabase.query.all()]"
   ]
  },
  {
   "cell_type": "code",
   "execution_count": 6,
   "metadata": {},
   "outputs": [
    {
     "data": {
      "text/plain": [
       "\"Imprisoned on the other side of the universe, the mighty Thor finds himself in a deadly gladiatorial contest that pits him against the Hulk, his former ally and fellow Avenger. Thor's quest for survival leads him in a race against time to prevent the all-powerful Hela from destroying his home world and the Asgardian civilization.\""
      ]
     },
     "execution_count": 6,
     "metadata": {},
     "output_type": "execute_result"
    }
   ],
   "source": [
    "synopsis[0]"
   ]
  },
  {
   "cell_type": "code",
   "execution_count": 7,
   "metadata": {},
   "outputs": [
    {
     "name": "stderr",
     "output_type": "stream",
     "text": [
      "/home/ksaff/miniconda3/envs/movie_env/lib/python3.10/site-packages/tqdm/auto.py:21: TqdmWarning: IProgress not found. Please update jupyter and ipywidgets. See https://ipywidgets.readthedocs.io/en/stable/user_install.html\n",
      "  from .autonotebook import tqdm as notebook_tqdm\n"
     ]
    }
   ],
   "source": [
    "from transformers import AutoTokenizer, AutoModel\n",
    "from bert_transformer import BertTransformer\n",
    "\n",
    "tokenizer = AutoTokenizer.from_pretrained('bert-base-uncased')\n",
    "model = AutoModel.from_pretrained(\"bert-base-uncased\").to('cuda:0')\n",
    "\n",
    "bert_transformer = BertTransformer(tokenizer, model, 500)"
   ]
  },
  {
   "cell_type": "code",
   "execution_count": 12,
   "metadata": {},
   "outputs": [
    {
     "name": "stderr",
     "output_type": "stream",
     "text": [
      "/home/ksaff/Desktop/Movie_Base_And_Recommendations/synopsis_clustering/bert_transformer.py:26: UserWarning: To copy construct from a tensor, it is recommended to use sourceTensor.clone().detach() or sourceTensor.clone().detach().requires_grad_(True), rather than torch.tensor(sourceTensor).\n",
      "  torch.tensor(tokenized_text).unsqueeze(0).to(self.device),\n"
     ]
    }
   ],
   "source": [
    "vectorized = bert_transformer.fit_transform(synopsis)"
   ]
  },
  {
   "cell_type": "code",
   "execution_count": 169,
   "metadata": {},
   "outputs": [
    {
     "name": "stderr",
     "output_type": "stream",
     "text": [
      "/home/ksaff/miniconda3/envs/movie_env/lib/python3.10/site-packages/sklearn/cluster/_kmeans.py:1412: FutureWarning: The default value of `n_init` will change from 10 to 'auto' in 1.4. Set the value of `n_init` explicitly to suppress the warning\n",
      "  super()._check_params_vs_input(X, default_n_init=10)\n"
     ]
    }
   ],
   "source": [
    "from sklearn.cluster import KMeans\n",
    "kmeans = KMeans(20).fit(vectorized)"
   ]
  },
  {
   "cell_type": "code",
   "execution_count": 170,
   "metadata": {},
   "outputs": [
    {
     "data": {
      "text/plain": [
       "array([16, 14, 11, ...,  2, 10,  2], dtype=int32)"
      ]
     },
     "execution_count": 170,
     "metadata": {},
     "output_type": "execute_result"
    }
   ],
   "source": [
    "kmeans.labels_"
   ]
  },
  {
   "cell_type": "code",
   "execution_count": 171,
   "metadata": {},
   "outputs": [
    {
     "data": {
      "text/plain": [
       "(9887,)"
      ]
     },
     "execution_count": 171,
     "metadata": {},
     "output_type": "execute_result"
    }
   ],
   "source": [
    "import numpy as np\n",
    "\n",
    "np.asarray(synopsis).shape"
   ]
  },
  {
   "cell_type": "code",
   "execution_count": 172,
   "metadata": {},
   "outputs": [],
   "source": [
    "import pandas as pd\n",
    "\n",
    "data = {'Cluster': kmeans.labels_, 'Synopsis': synopsis, 'Genres': genres, 'Title': titles, 'Collection': collection, 'Critics': critics, 'Studio': studio}\n",
    "df = pd.DataFrame(data)"
   ]
  },
  {
   "cell_type": "code",
   "execution_count": 173,
   "metadata": {},
   "outputs": [
    {
     "data": {
      "text/plain": [
       "Studio\n",
       "                                                                    2779\n",
       "Paramount Pictures                                                   405\n",
       "Warner Bros. Pictures                                                391\n",
       "Universal Pictures                                                   377\n",
       "20th Century Fox                                                     373\n",
       "                                                                    ... \n",
       "Warner Bros. Pictures, MGM/UA Home Entertainment Inc.                  1\n",
       "Roadshow Home Video [au], Metro-Goldwyn-Mayer Distributing Corp.       1\n",
       "Brandon Films Inc., Cowboy Pictures                                    1\n",
       "Cinelou Films                                                          1\n",
       "Paramount+                                                             1\n",
       "Name: count, Length: 1077, dtype: int64"
      ]
     },
     "execution_count": 173,
     "metadata": {},
     "output_type": "execute_result"
    }
   ],
   "source": [
    "df.Studio.value_counts()"
   ]
  },
  {
   "cell_type": "code",
   "execution_count": 174,
   "metadata": {},
   "outputs": [
    {
     "data": {
      "text/plain": [
       "8       A tale that technically spans two centuries, B...\n",
       "26      To be young and carefree amid the blue waters ...\n",
       "42      When it's discovered that the evil Emperor Pal...\n",
       "61      Mickey Pearson is an American expatriate who b...\n",
       "74      In \"Turning Red\", Mei Lee is a confident, dork...\n",
       "                              ...                        \n",
       "9820    Ui-gang is a hit man who has decided to retire...\n",
       "9826    A down-on-his-luck hound finds himself in a to...\n",
       "9846    After more than thirty years of service as one...\n",
       "9849    Finney, a shy but clever 13-year-old boy, is a...\n",
       "9853    In the new action comedy from DreamWorks Anima...\n",
       "Name: Synopsis, Length: 411, dtype: object"
      ]
     },
     "execution_count": 174,
     "metadata": {},
     "output_type": "execute_result"
    }
   ],
   "source": [
    "df[df['Cluster'] == 1].Synopsis"
   ]
  },
  {
   "cell_type": "code",
   "execution_count": 209,
   "metadata": {},
   "outputs": [
    {
     "data": {
      "text/plain": [
       "({'Drama': 91,\n",
       "  'Comedy, Romance': 73,\n",
       "  'Comedy': 71,\n",
       "  'Comedy, Drama': 38,\n",
       "  'Horror': 34},\n",
       " {'': 476,\n",
       "  'Divergent': 1,\n",
       "  'Pixar': 1,\n",
       "  'Friday the 13th': 1,\n",
       "  'Bridget Jones': 1},\n",
       " array(['Fresh', 'CODA', 'The Lost Daughter', 'Hatching',\n",
       "        'Fifty Shades of Grey', 'Thoroughbreds', 'Mean Girls', 'Nitram',\n",
       "        'The Ledge', 'Sex and the City 2', 'Black Swan', 'Cruella',\n",
       "        'La La Land', 'The Valet', 'The High Note', 'Divergent',\n",
       "        'The Heat', 'The Age of Adaline', 'Juno', 'Inside Out',\n",
       "        'Little Women', 'Z', 'How Do You Know', 'My Fake Boyfriend',\n",
       "        \"My Heart Can't Beat Unless You Tell It To\", \"Jennifer's Body\",\n",
       "        'The Girl Next Door', 'Orphan', 'About Time',\n",
       "        'The Edge of Seventeen', 'The Devil Wears Prada', 'The Visit',\n",
       "        'Hollywood Stargirl', 'Unhinged', 'Oculus', 'Step Brothers',\n",
       "        'Brothers', 'The Boy', 'Block Party', 'Angel Eyes',\n",
       "        'Below Her Mouth', 'Case 39', 'Begin Again', 'The Sixth Sense',\n",
       "        'Clueless', 'June Again', 'Martha Marcy May Marlene',\n",
       "        'Drag Me to Hell', 'That Awkward Moment', 'Heathers', 'Trainwreck',\n",
       "        'For Jojo', 'Jack and Jill', \"That's My Boy\", 'Magic Mike',\n",
       "        '100 Days to Live', 'The In Between', 'Roma',\n",
       "        'Friends With Benefits', 'Brazen', 'St. Vincent', 'Premonition',\n",
       "        'Love & Other Drugs', 'Steel Magnolias', 'Bridesmaids',\n",
       "        'Blue Valentine', 'Legally Blonde', 'Dark Skies', 'Our Friend',\n",
       "        'Finding You', 'The Taking of Deborah Logan', 'Carrie',\n",
       "        'Chronicle', 'Border', 'Thirteen', 'Pitch Perfect', 'Pretty Woman',\n",
       "        'Dirty Dancing', 'The Twilight Saga: New Moon',\n",
       "        \"But I'm a Cheerleader\", 'Shattered', 'The Intern',\n",
       "        'Saturday Night Fever', 'Love Story', 'Cruel Intentions',\n",
       "        'Mamma Mia! Here We Go Again', 'XX/XY', 'Columbus',\n",
       "        'Friends With Money', 'Closer', 'Unfriended', 'Carrie',\n",
       "        'The Neon Demon', 'Miss Congeniality 2: Armed and Fabulous',\n",
       "        'The Fault in Our Stars', 'How to Lose a Guy in 10 Days',\n",
       "        'Little Italy', 'Knocked Up', 'Easy A', 'Showgirls', 'My Spy',\n",
       "        'Eat Pray Love', 'Rumor Has It ...', 'Annie', 'Never Let Me Go',\n",
       "        'Wild', 'The Call', 'My Girl', 'Falling for Figaro',\n",
       "        \"He's Just Not That Into You\", 'Hanna', 'Miss Congeniality',\n",
       "        'Sex and the City', 'Salt', \"Grandma's Boy\", 'No Strings Attached',\n",
       "        'The Book of Life', 'Moxie', 'The Parent Trap', 'Killers',\n",
       "        'The Sweetest Thing', 'Before I Go to Sleep', 'Sex Tape',\n",
       "        'Whip It', 'Leap Year', 'Good on Paper', 'Teeth', 'The DUFF',\n",
       "        'The Roommate', 'Life as We Know It', 'Karen',\n",
       "        'Sweet Home Alabama', 'Urban Legend', 'Moonstruck',\n",
       "        \"Rifkin's Festival\", 'One Missed Call', 'Lie With Me', 'Dear John',\n",
       "        'Vacation Friends', \"My Best Friend's Wedding\",\n",
       "        'Death Becomes Her', 'The Book of Henry', 'Dolores Claiborne',\n",
       "        \"She's the Man\", 'High School Musical', 'Fried Green Tomatoes',\n",
       "        'To the Bone', 'Flowers in the Attic', 'The Craft',\n",
       "        'Message in a Bottle', 'The Hot Chick', 'The Royal Treatment',\n",
       "        'Dogville', 'Marley & Me', 'Chasing Amy', 'American Honey',\n",
       "        'The Orphanage', 'Once', 'Suspiria', 'The Bodyguard', 'Bound',\n",
       "        'Post Grad', 'The Break-Up', 'My Big Fat Greek Wedding', '50/50',\n",
       "        'An Education', 'P.S. I Love You', 'Soul Surfer', 'The Vow',\n",
       "        'I Love You, Man', 'The Boss', 'Freedom Writers', 'Burlesque',\n",
       "        'Greta', '40 Days and 40 Nights', 'The Five-Year Engagement',\n",
       "        'Happiness', 'Role Models', 'The Aviary', 'Help', 'Freaky Friday',\n",
       "        '27 Dresses', 'The Tale', 'Home Again', 'The Dilemma',\n",
       "        'Welcome to the Dollhouse', 'Gothika', 'How to Be Single',\n",
       "        'Queen of Katwe', 'Striptease', 'Enough Said', 'Flower',\n",
       "        'Bad Moms', 'Sex and Lucia', 'Gia', 'Midnight Sun', 'Violet',\n",
       "        'The Uninvited', 'Another Woman', 'Hard Candy',\n",
       "        'Precious: Based on the Novel \"Push\" by Sapphire',\n",
       "        'Love & Basketball', 'Safe Haven', 'Endless Love',\n",
       "        'Legally Blonde 2: Red, White & Blonde', 'The Choice', 'Baby Done',\n",
       "        'Beaches', 'Monster-in-Law', 'Miracles From Heaven',\n",
       "        'Reality Bites', 'Sixteen Candles', 'First They Killed My Father',\n",
       "        'The Mother', 'Uptown Girls', 'The Big Chill',\n",
       "        'Honeymoon with My Mother', 'Flipped', 'Mystic Pizza',\n",
       "        'Once Were Warriors', 'One for the Money',\n",
       "        'The Sisterhood of the Traveling Pants', 'Last Vegas',\n",
       "        'Step Sisters', \"A Dog's Way Home\", 'The Housemaid', 'Selena',\n",
       "        'The Stepford Wives', 'Spanglish', 'Before I Fall', 'Pretty Baby',\n",
       "        'The Back-up Plan', 'Stalker', 'Last Night',\n",
       "        \"Nick and Norah's Infinite Playlist\", 'Wicker Park',\n",
       "        'Zack and Miri Make a Porno', 'Sister Act', 'Secrets & Lies',\n",
       "        \"Isn't It Romantic\", 'Friday the 13th Part 3', 'Carrie Pilby',\n",
       "        'Tammy', 'Dark Water', 'Fish Tank', 'Jack', 'Private Property',\n",
       "        'Waitress', 'All About My Mother', \"Sylvie's Love\",\n",
       "        'The Columnist', 'Tideland', 'My Teacher, My Obsession', 'Persona',\n",
       "        'The Last Song', 'Dangerous Minds', 'Shutter',\n",
       "        'Notes on a Scandal', 'Top Five', 'Vampires Suck',\n",
       "        'Where the Heart Is', 'Driving Miss Daisy', 'Fly Away Home',\n",
       "        'The Other Side of the Door', \"What's Love Got to Do With It\",\n",
       "        'Milk Money', 'Son', 'Step Up 2 the Streets', 'Pretty in Pink',\n",
       "        'Weird Science', 'XXY', \"America's Sweethearts\", 'Bad Teacher',\n",
       "        'Beginners', 'Single White Female', 'The Seventh Victim',\n",
       "        'A Letter to Three Wives', 'All About Steve',\n",
       "        'Bring It On: All or Nothing', 'Last Holiday', 'In Her Shoes',\n",
       "        'Something Borrowed', 'Fever Pitch', 'Dancer in the Dark',\n",
       "        'Silent Hill: Revelation', 'Admission', 'The Glass House',\n",
       "        'Night Owls', 'Daphne', 'Juliet, Naked', 'Paranormal Activity 4',\n",
       "        'The Secret Life of Bees', 'High Art', 'Mermaids', 'We Broke Up',\n",
       "        'Hannah Montana: The Movie', 'Shallow Grave',\n",
       "        \"Everybody's Talking About Jamie\", 'Elephant',\n",
       "        'Confessions of a Shopaholic', 'Poms', 'Everything, Everything',\n",
       "        'Please Stand By', 'The Man in the Moon', \"Bridget Jones's Baby\",\n",
       "        'Fools Rush In', 'Overboard', 'If I Stay', 'The Babysitters',\n",
       "        'American Reunion', 'Volver', 'Date Movie', 'Keeping the Faith',\n",
       "        'Save the Last Dance', 'The Swarm', 'Smiley Face',\n",
       "        'When a Man Loves a Woman', 'Birth', 'Mr. Wrong',\n",
       "        'Fifty Shades of Black', \"I'M FINE (Thanks for Asking)\",\n",
       "        'Miss Bala', 'Hush', 'Kissing Jessica Stein',\n",
       "        'My Big Fat Greek Wedding 2', 'Set It Off', 'Monte Carlo',\n",
       "        'Poetic Justice', 'Birds of Paradise', 'Buffy the Vampire Slayer',\n",
       "        'War Room', 'Beyond the Lights', \"Nim's Island\", 'Rust and Bone',\n",
       "        'The House Bunny', 'Veronica Mars', 'Stranger in the House',\n",
       "        'You Can Count on Me', 'Boomerang', 'Bio-Dome', 'Weather Girl',\n",
       "        'For Colored Girls', 'Skin', 'House Party',\n",
       "        'Scenes From a Marriage', 'The Witches of Eastwick', 'Bratz',\n",
       "        'Sensitivity Training', \"She's Gotta Have It\", 'The Players Club',\n",
       "        'Alex & Emma', 'Saving Face', \"Alice Doesn't Live Here Anymore\",\n",
       "        'Sliver', 'Live Nude Girls', 'Robin Robin',\n",
       "        'The Lizzie McGuire Movie', 'Burnt Offerings', 'Just My Luck',\n",
       "        'May', \"Sharpay's Fabulous Adventure\", 'Them',\n",
       "        'Celeste and Jesse Forever', 'Mark, Mary & Some Other People',\n",
       "        'The Perfect Man', 'Wildland', 'Dog Days',\n",
       "        'The Strange Love of Martha Ivers', 'The Thing Called Love',\n",
       "        'Only the Lonely', \"A Cowgirl's Song\", \"Coal Miner's Daughter\",\n",
       "        'Singles', 'The Identical', 'Dirty Dancing',\n",
       "        \"Romy and Michele's High School Reunion\", 'Femme Fatale',\n",
       "        \"Mother's Day\", 'Days', 'Still Walking',\n",
       "        'The Disappointments Room', 'Because of Winn-Dixie', 'Family',\n",
       "        'Brother', 'Tuck Everlasting', 'What Maisie Knew',\n",
       "        'I Love America', 'Hope Floats', 'Plaza Catedral',\n",
       "        'The Stepford Wives', 'The To Do List', 'You Again',\n",
       "        'View From the Top', 'Happy-Go-Lucky', 'Dark Water',\n",
       "        'It Had to Be You', 'The Secret of Roan Inish', 'Hairspray',\n",
       "        'Asako I & II', 'The Wedding Date', 'D.O.A.: Dead or Alive',\n",
       "        'Knocking', 'The Hand That Rocks the Cradle', 'The Other Me',\n",
       "        'Made of Honor', \"Look Who's Talking\", 'French Kiss',\n",
       "        'No Reservations', 'Stealing Beauty', 'Sleepover', 'The Big Green',\n",
       "        'Unfriend', 'Georgia Rule', 'Really Love', 'Stick It',\n",
       "        'The Eyes of My Mother', 'Imagine Me & You', 'Nell',\n",
       "        'About Last Night', 'I Could Never Be Your Woman',\n",
       "        'Just One of the Guys', 'Overcomer', 'Laggies', 'Chalet Girl',\n",
       "        'Twisted', 'Ali: Fear Eats the Soul', 'Baby Boom',\n",
       "        'My Summer of Love', 'The Goodbye Girl',\n",
       "        'Diary of a Mad Black Woman', 'Eat Drink Man Woman', \"Eve's Bayou\",\n",
       "        'Prime', 'Like Water for Chocolate', 'Blind Date', 'Godmothered',\n",
       "        'Private Benjamin', 'A Man and a Woman', 'Beloved', 'Burn',\n",
       "        \"Nobody's Fool\", 'North', \"Sunday's Illness\", \"Bebe's Kids\",\n",
       "        'Breakfast on Pluto', 'Dying Young', 'Step Up Revolution',\n",
       "        'Baby Mama', 'Junebug', 'Kabhi Alvida Naa Kehna',\n",
       "        'The Prince & Me', 'Off the Rails',\n",
       "        'Win a Date With Tad Hamilton!', 'Hannah and Her Sisters',\n",
       "        'Blue Steel', 'Duma', 'Friends With Kids', 'Love Jones',\n",
       "        'Girls Just Want to Have Fun', 'Kindred', 'Freaky Friday', 'Honey',\n",
       "        'Love Happens', 'Transamerica', 'Are We Done Yet?',\n",
       "        'Racing Stripes', 'Little Black Book', 'Romper Stomper',\n",
       "        'Mountains May Depart', '6 Souls', 'Jem and the Holograms',\n",
       "        'Beautiful Thing', 'Blue Crush', 'Fair Haven', 'Morvern Callar',\n",
       "        'Skater Girl', 'Sweet Charity', 'Hyde Park', 'Gone in the Night',\n",
       "        'Girls to Buy', \"Mr. Malcolm's List\"], dtype=object))"
      ]
     },
     "execution_count": 209,
     "metadata": {},
     "output_type": "execute_result"
    }
   ],
   "source": [
    "n = 4\n",
    "dict(df[df['Cluster'] == n].Genres.value_counts()[:5]), dict(df[df['Cluster'] == n].Collection.value_counts()[:5]), df[df['Cluster'] == n]['Title'].to_numpy()"
   ]
  },
  {
   "cell_type": "code",
   "execution_count": null,
   "metadata": {},
   "outputs": [],
   "source": []
  }
 ],
 "metadata": {
  "kernelspec": {
   "display_name": "movie_env",
   "language": "python",
   "name": "python3"
  },
  "language_info": {
   "codemirror_mode": {
    "name": "ipython",
    "version": 3
   },
   "file_extension": ".py",
   "mimetype": "text/x-python",
   "name": "python",
   "nbconvert_exporter": "python",
   "pygments_lexer": "ipython3",
   "version": "3.10.12"
  },
  "orig_nbformat": 4
 },
 "nbformat": 4,
 "nbformat_minor": 2
}
